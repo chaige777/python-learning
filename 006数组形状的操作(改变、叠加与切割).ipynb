{
 "cells": [
  {
   "cell_type": "code",
   "execution_count": 1,
   "id": "5dd19806",
   "metadata": {},
   "outputs": [],
   "source": [
    "import numpy as np"
   ]
  },
  {
   "cell_type": "code",
   "execution_count": 2,
   "id": "c4f7c378",
   "metadata": {},
   "outputs": [
    {
     "name": "stdout",
     "output_type": "stream",
     "text": [
      "[[5 1 3 5]\n",
      " [5 6 8 6]\n",
      " [1 9 9 9]]\n"
     ]
    }
   ],
   "source": [
    "a1 = np.random.randint(0,10,size = (3,4))\n",
    "print(a1)"
   ]
  },
  {
   "cell_type": "code",
   "execution_count": 3,
   "id": "9edd0995",
   "metadata": {},
   "outputs": [
    {
     "name": "stdout",
     "output_type": "stream",
     "text": [
      "[[5 1 3 5 5 6]\n",
      " [8 6 1 9 9 9]]\n",
      "[[5 1 3 5]\n",
      " [5 6 8 6]\n",
      " [1 9 9 9]]\n"
     ]
    }
   ],
   "source": [
    "print(a1.reshape(2,6))\n",
    "print(a1)"
   ]
  },
  {
   "cell_type": "code",
   "execution_count": 4,
   "id": "221fa9cc",
   "metadata": {},
   "outputs": [
    {
     "name": "stdout",
     "output_type": "stream",
     "text": [
      "[[5 1 3]\n",
      " [5 5 6]\n",
      " [8 6 1]\n",
      " [9 9 9]]\n"
     ]
    }
   ],
   "source": [
    "a1.resize((4,3))\n",
    "print(a1)"
   ]
  },
  {
   "cell_type": "markdown",
   "id": "595a912d",
   "metadata": {},
   "source": [
    "#### reshape和resize都可以重新定义形状，但reshape不会修改数组本身，而是将修改后的结果返回回去。resize是直接修改数组本身。"
   ]
  },
  {
   "cell_type": "markdown",
   "id": "febde623",
   "metadata": {},
   "source": [
    "### flatten和ravel函数"
   ]
  },
  {
   "cell_type": "code",
   "execution_count": 5,
   "id": "037c18d7",
   "metadata": {},
   "outputs": [
    {
     "name": "stdout",
     "output_type": "stream",
     "text": [
      "[[0 6 4 4]\n",
      " [4 5 6 7]\n",
      " [9 0 2 9]]\n"
     ]
    }
   ],
   "source": [
    "a2 = np.random.randint(0,10,size = (3,4))\n",
    "print(a2)"
   ]
  },
  {
   "cell_type": "code",
   "execution_count": 6,
   "id": "a7b23326",
   "metadata": {},
   "outputs": [
    {
     "name": "stdout",
     "output_type": "stream",
     "text": [
      "0\n"
     ]
    }
   ],
   "source": [
    "a3 = a2.flatten()\n",
    "a3[0] = 100\n",
    "print(a2[0,0])"
   ]
  },
  {
   "cell_type": "code",
   "execution_count": 7,
   "id": "a56085d5",
   "metadata": {},
   "outputs": [
    {
     "name": "stdout",
     "output_type": "stream",
     "text": [
      "100\n"
     ]
    }
   ],
   "source": [
    "a4 = a2.ravel()\n",
    "a4[0] = 100\n",
    "print(a2[0,0])"
   ]
  },
  {
   "cell_type": "markdown",
   "id": "8ff229c5",
   "metadata": {},
   "source": [
    "#### 总结，两个函数都可将数组扁平化。但在通过索引修改数组元素时，ravel会直接改变原数组的值，而flatten则不影响"
   ]
  },
  {
   "cell_type": "markdown",
   "id": "db299b37",
   "metadata": {},
   "source": [
    "## 不同数组的组合"
   ]
  },
  {
   "cell_type": "code",
   "execution_count": 8,
   "id": "1c8b9b4c",
   "metadata": {},
   "outputs": [
    {
     "name": "stdout",
     "output_type": "stream",
     "text": [
      "[[4 5 4 0]\n",
      " [4 2 7 7]\n",
      " [2 6 5 6]]\n",
      "---------------\n",
      "[[0 2 4 4]]\n",
      "---------------\n",
      "[[4 5 4 0]\n",
      " [4 2 7 7]\n",
      " [2 6 5 6]\n",
      " [0 2 4 4]]\n"
     ]
    }
   ],
   "source": [
    "v1 = np.random.randint(0,10,size = (3,4))\n",
    "print(v1)\n",
    "print('-' * 15)\n",
    "v2 = np.random.randint(0,10,size = (1,4))\n",
    "print(v2)\n",
    "print('-' * 15)\n",
    "v3 = np.vstack([v1,v2])\n",
    "print(v3)"
   ]
  },
  {
   "cell_type": "code",
   "execution_count": 9,
   "id": "0ae9959f",
   "metadata": {},
   "outputs": [
    {
     "name": "stdout",
     "output_type": "stream",
     "text": [
      "[[3 3 3 8]\n",
      " [7 4 5 2]\n",
      " [0 2 3 2]]\n",
      "---------------\n",
      "[[4 1 4 0 2 8]\n",
      " [4 5 9 3 9 8]\n",
      " [8 8 2 6 5 4]]\n",
      "-------------------------\n",
      "[[3 3 3 8 4 1 4 0 2 8]\n",
      " [7 4 5 2 4 5 9 3 9 8]\n",
      " [0 2 3 2 8 8 2 6 5 4]]\n"
     ]
    }
   ],
   "source": [
    "h1 = np.random.randint(0,10,size = (3,4))\n",
    "print(h1)\n",
    "print('-' * 15)\n",
    "h2 = np.random.randint(0,10,size = (3,6))\n",
    "print(h2)\n",
    "print('-' * 25)\n",
    "h3 = np.hstack([h1,h2])\n",
    "print(h3)"
   ]
  },
  {
   "cell_type": "code",
   "execution_count": 10,
   "id": "5cb2f86a",
   "metadata": {},
   "outputs": [
    {
     "name": "stdout",
     "output_type": "stream",
     "text": [
      "[[5 5 5 7]\n",
      " [3 9 2 5]\n",
      " [9 1 2 2]]\n",
      "---------------\n",
      "[[7 6 5 6 4 2]\n",
      " [5 1 7 3 3 3]\n",
      " [7 0 0 8 3 8]]\n",
      "-------------------------\n",
      "[[5 5 5 7 7 6 5 6 4 2]\n",
      " [3 9 2 5 5 1 7 3 3 3]\n",
      " [9 1 2 2 7 0 0 8 3 8]]\n",
      "-------------------------\n",
      "[[5 5 5 7 3 9]\n",
      " [2 5 9 1 2 2]]\n",
      "---------------\n",
      "[[7 6 5 6 4 2]\n",
      " [5 1 7 3 3 3]\n",
      " [7 0 0 8 3 8]\n",
      " [5 5 5 7 3 9]\n",
      " [2 5 9 1 2 2]]\n"
     ]
    }
   ],
   "source": [
    "c1 = np.random.randint(0,10,size = (3,4))\n",
    "print(c1)\n",
    "print('-' * 15)\n",
    "c2 = np.random.randint(0,10,size = (3,6))\n",
    "print(c2)\n",
    "print('-' * 25)\n",
    "c3 = np.concatenate([c1,c2],axis = 1)#axis = 1 是列拼接 = 0 是行拼接\n",
    "print(c3)\n",
    "print('-' * 25)\n",
    "c4 = c1.reshape(2,6)\n",
    "print(c4)\n",
    "print('-' * 15)\n",
    "c5 = np.concatenate([c2,c4],axis = 0)\n",
    "print(c5)"
   ]
  },
  {
   "cell_type": "code",
   "execution_count": 11,
   "id": "f0f4abf5",
   "metadata": {},
   "outputs": [
    {
     "name": "stdout",
     "output_type": "stream",
     "text": [
      "[7 6 5 6 4 2 5 1 7 3 3 3 7 0 0 8 3 8 5 5 5 7 3 9 2 5 9 1 2 2]\n"
     ]
    }
   ],
   "source": [
    "c6 = np.concatenate([c2,c4],axis = None)\n",
    "print(c6)"
   ]
  },
  {
   "cell_type": "markdown",
   "id": "74516421",
   "metadata": {},
   "source": [
    "#### 总计：vstack是行叠加，hstack是列叠加，concatenate可以行或列叠加(axis)，若axis = None，会先进行叠加，再转化为一维数组"
   ]
  },
  {
   "cell_type": "code",
   "execution_count": 12,
   "id": "3ada441d",
   "metadata": {},
   "outputs": [
    {
     "name": "stdout",
     "output_type": "stream",
     "text": [
      "[[1 4 4 5]\n",
      " [3 2 8 2]\n",
      " [6 1 2 0]]\n",
      "------------------------------\n",
      "[array([[1, 4],\n",
      "       [3, 2],\n",
      "       [6, 1]]), array([[4, 5],\n",
      "       [8, 2],\n",
      "       [2, 0]])]\n",
      "------------------------------\n",
      "[array([[1],\n",
      "       [3],\n",
      "       [6]]), array([[4],\n",
      "       [2],\n",
      "       [1]]), array([[4, 5],\n",
      "       [8, 2],\n",
      "       [2, 0]])]\n"
     ]
    }
   ],
   "source": [
    "hs1 = np.random.randint(0,10,size = (3,4))\n",
    "print(hs1)\n",
    "print('-' * 30)\n",
    "hs2 = np.hsplit(hs1, 2)#平均分割\n",
    "print(hs2)\n",
    "print('-' * 30)\n",
    "hs3 = np.hsplit(hs1, (1,2))#不规则切割\n",
    "print(hs3)"
   ]
  },
  {
   "cell_type": "code",
   "execution_count": 13,
   "id": "28ef213e",
   "metadata": {},
   "outputs": [
    {
     "name": "stdout",
     "output_type": "stream",
     "text": [
      "[[0 0 3 2 8]\n",
      " [7 0 8 5 0]\n",
      " [1 7 1 6 2]\n",
      " [4 8 4 0 5]\n",
      " [1 0 0 5 8]]\n",
      "------------------------------\n",
      "[array([[0, 0, 3, 2, 8]]), array([[7, 0, 8, 5, 0]]), array([[1, 7, 1, 6, 2]]), array([[4, 8, 4, 0, 5]]), array([[1, 0, 0, 5, 8]])]\n",
      "------------------------------\n"
     ]
    },
    {
     "data": {
      "text/plain": [
       "[array([[0, 0, 3, 2, 8],\n",
       "        [7, 0, 8, 5, 0]]),\n",
       " array([[1, 7, 1, 6, 2]]),\n",
       " array([[4, 8, 4, 0, 5],\n",
       "        [1, 0, 0, 5, 8]])]"
      ]
     },
     "execution_count": 13,
     "metadata": {},
     "output_type": "execute_result"
    }
   ],
   "source": [
    "vs1 = np.random.randint(0,10,size = (5,5))\n",
    "print(vs1)\n",
    "vs2 = np.vsplit(vs1,5)\n",
    "print('-' * 30)\n",
    "print(vs2)\n",
    "vs3 = np.vsplit(vs1,(2,3))\n",
    "print('-' * 30)\n",
    "vs3"
   ]
  },
  {
   "cell_type": "code",
   "execution_count": 14,
   "id": "fc5a09fa",
   "metadata": {},
   "outputs": [
    {
     "data": {
      "text/plain": [
       "[array([[0, 0, 3, 2, 8],\n",
       "        [7, 0, 8, 5, 0]]),\n",
       " array([[1, 7, 1, 6, 2]]),\n",
       " array([[4, 8, 4, 0, 5],\n",
       "        [1, 0, 0, 5, 8]])]"
      ]
     },
     "execution_count": 14,
     "metadata": {},
     "output_type": "execute_result"
    }
   ],
   "source": [
    "np.split(vs1,(2,3),axis = 0)#axis = 1 是列切割 = 0 是行切割"
   ]
  },
  {
   "cell_type": "markdown",
   "id": "be645915",
   "metadata": {},
   "source": [
    "#### 总结：hsplit是列切割，vsplit是行切割，split可以进行行或列切割。切割既可以平均切割也可以不规则切割。"
   ]
  },
  {
   "cell_type": "markdown",
   "id": "229335f9",
   "metadata": {},
   "source": [
    "### 矩阵的转置和轴对换"
   ]
  },
  {
   "cell_type": "code",
   "execution_count": 15,
   "id": "39e19c83",
   "metadata": {},
   "outputs": [
    {
     "name": "stdout",
     "output_type": "stream",
     "text": [
      "[[3 0 4 3]\n",
      " [4 9 8 5]\n",
      " [1 8 2 8]]\n"
     ]
    }
   ],
   "source": [
    "t1 = np.random.randint(0,10,size = (3,4))\n",
    "print(t1)"
   ]
  },
  {
   "cell_type": "code",
   "execution_count": 20,
   "id": "aecf536a",
   "metadata": {},
   "outputs": [
    {
     "name": "stdout",
     "output_type": "stream",
     "text": [
      "[[3 4 1]\n",
      " [0 9 8]\n",
      " [4 8 2]\n",
      " [3 5 8]]\n",
      "--------------------\n",
      "[[ 34  59  35]\n",
      " [ 59 186 132]\n",
      " [ 35 132 133]]\n"
     ]
    }
   ],
   "source": [
    "print(t1.T)\n",
    "print('-' * 20)\n",
    "print(t1.dot(t1.T))"
   ]
  },
  {
   "cell_type": "code",
   "execution_count": 23,
   "id": "37aef558",
   "metadata": {},
   "outputs": [
    {
     "name": "stdout",
     "output_type": "stream",
     "text": [
      "[[3 4 1]\n",
      " [0 9 8]\n",
      " [4 8 2]\n",
      " [3 5 8]]\n",
      "[[100   0   4   3]\n",
      " [100   9   8   5]\n",
      " [100   8   2   8]]\n",
      "[[100 100 100]\n",
      " [  0   9   8]\n",
      " [  4   8   2]\n",
      " [  3   5   8]]\n"
     ]
    }
   ],
   "source": [
    "print(t1.transpose())\n",
    "t2 = t1.transpose()#是一个view\n",
    "t2[0] = 100\n",
    "print(t1)\n",
    "print(t2)"
   ]
  }
 ],
 "metadata": {
  "kernelspec": {
   "display_name": "Python 3",
   "language": "python",
   "name": "python3"
  },
  "language_info": {
   "codemirror_mode": {
    "name": "ipython",
    "version": 3
   },
   "file_extension": ".py",
   "mimetype": "text/x-python",
   "name": "python",
   "nbconvert_exporter": "python",
   "pygments_lexer": "ipython3",
   "version": "3.8.8"
  }
 },
 "nbformat": 4,
 "nbformat_minor": 5
}
