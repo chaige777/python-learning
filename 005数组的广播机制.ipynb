{
 "cells": [
  {
   "cell_type": "code",
   "execution_count": 1,
   "id": "c969b294",
   "metadata": {},
   "outputs": [],
   "source": [
    "import numpy as np"
   ]
  },
  {
   "cell_type": "code",
   "execution_count": 2,
   "id": "f06b5667",
   "metadata": {},
   "outputs": [
    {
     "name": "stdout",
     "output_type": "stream",
     "text": [
      "[[0 4 2 0 3]\n",
      " [3 4 0 1 1]\n",
      " [4 2 2 2 0]]\n"
     ]
    }
   ],
   "source": [
    "a1 = np.random.randint(0,5,size = (3,5))\n",
    "print(a1)"
   ]
  },
  {
   "cell_type": "code",
   "execution_count": 3,
   "id": "5bb793bf",
   "metadata": {},
   "outputs": [
    {
     "name": "stdout",
     "output_type": "stream",
     "text": [
      "[[0 8 4 0 6]\n",
      " [6 8 0 2 2]\n",
      " [8 4 4 4 0]]\n"
     ]
    }
   ],
   "source": [
    "print(a1 * 2)"
   ]
  },
  {
   "cell_type": "code",
   "execution_count": 4,
   "id": "c306d5f0",
   "metadata": {},
   "outputs": [
    {
     "name": "stdout",
     "output_type": "stream",
     "text": [
      "[[2 0 4 2 4]\n",
      " [3 1 4 1 1]\n",
      " [4 3 2 2 4]]\n"
     ]
    }
   ],
   "source": [
    "a2 = np.random.randint(0,5,size = (3,5))\n",
    "print(a2)"
   ]
  },
  {
   "cell_type": "code",
   "execution_count": 5,
   "id": "06575021",
   "metadata": {},
   "outputs": [
    {
     "name": "stdout",
     "output_type": "stream",
     "text": [
      "[[2 4 6 2 7]\n",
      " [6 5 4 2 2]\n",
      " [8 5 4 4 4]]\n"
     ]
    }
   ],
   "source": [
    "print(a1 + a2)"
   ]
  },
  {
   "cell_type": "code",
   "execution_count": 6,
   "id": "9d25d74e",
   "metadata": {},
   "outputs": [
    {
     "name": "stdout",
     "output_type": "stream",
     "text": [
      "[[2 0 4 1]\n",
      " [4 2 2 4]\n",
      " [2 0 3 4]]\n"
     ]
    }
   ],
   "source": [
    "a3 = np.random.randint(0,5,size = (3,4))\n",
    "print(a3)"
   ]
  },
  {
   "cell_type": "code",
   "execution_count": 7,
   "id": "da9ceb68",
   "metadata": {},
   "outputs": [
    {
     "name": "stdout",
     "output_type": "stream",
     "text": [
      "[[4]\n",
      " [2]\n",
      " [4]]\n",
      "------------------------------\n",
      "[[0 4 2 0 3]\n",
      " [3 4 0 1 1]\n",
      " [4 2 2 2 0]]\n"
     ]
    }
   ],
   "source": [
    "a4 = np.random.randint(0,5,size = (3,1))\n",
    "print(a4)\n",
    "print(\"-\"*30)\n",
    "print(a1)"
   ]
  },
  {
   "cell_type": "code",
   "execution_count": 9,
   "id": "44b28c41",
   "metadata": {},
   "outputs": [
    {
     "data": {
      "text/plain": [
       "array([[4, 8, 6, 4, 7],\n",
       "       [5, 6, 2, 3, 3],\n",
       "       [8, 6, 6, 6, 4]])"
      ]
     },
     "execution_count": 9,
     "metadata": {},
     "output_type": "execute_result"
    }
   ],
   "source": [
    "a1 + a4"
   ]
  },
  {
   "cell_type": "code",
   "execution_count": 10,
   "id": "46b67121",
   "metadata": {},
   "outputs": [
    {
     "name": "stdout",
     "output_type": "stream",
     "text": [
      "[[0 4 2 0 3]\n",
      " [3 4 0 1 1]\n",
      " [4 2 2 2 0]]\n",
      "------------------------------\n",
      "[[4 1 0 2 2]]\n"
     ]
    }
   ],
   "source": [
    "a5 = np.random.randint(0,5,size = (1,5))\n",
    "print(a1)\n",
    "print('-' * 30)\n",
    "print(a5)"
   ]
  },
  {
   "cell_type": "code",
   "execution_count": 11,
   "id": "6ef36197",
   "metadata": {},
   "outputs": [
    {
     "data": {
      "text/plain": [
       "array([[4, 5, 2, 2, 5],\n",
       "       [7, 5, 0, 3, 3],\n",
       "       [8, 3, 2, 4, 2]])"
      ]
     },
     "execution_count": 11,
     "metadata": {},
     "output_type": "execute_result"
    }
   ],
   "source": [
    "a1 + a5"
   ]
  },
  {
   "cell_type": "code",
   "execution_count": 14,
   "id": "baa7c6c8",
   "metadata": {},
   "outputs": [
    {
     "name": "stdout",
     "output_type": "stream",
     "text": [
      "[[[0 4]\n",
      "  [3 4]\n",
      "  [1 3]\n",
      "  [1 3]\n",
      "  [3 3]\n",
      "  [2 1]\n",
      "  [4 4]\n",
      "  [3 0]]\n",
      "\n",
      " [[2 4]\n",
      "  [4 4]\n",
      "  [0 4]\n",
      "  [2 3]\n",
      "  [0 1]\n",
      "  [4 0]\n",
      "  [2 3]\n",
      "  [0 4]]\n",
      "\n",
      " [[2 0]\n",
      "  [3 2]\n",
      "  [1 4]\n",
      "  [1 2]\n",
      "  [4 2]\n",
      "  [1 3]\n",
      "  [4 2]\n",
      "  [0 1]]]\n",
      "------------------------------\n",
      "[[3]\n",
      " [0]\n",
      " [0]\n",
      " [4]\n",
      " [1]\n",
      " [0]\n",
      " [0]\n",
      " [4]]\n",
      "------------------------------\n",
      "[[[3 7]\n",
      "  [3 4]\n",
      "  [1 3]\n",
      "  [5 7]\n",
      "  [4 4]\n",
      "  [2 1]\n",
      "  [4 4]\n",
      "  [7 4]]\n",
      "\n",
      " [[5 7]\n",
      "  [4 4]\n",
      "  [0 4]\n",
      "  [6 7]\n",
      "  [1 2]\n",
      "  [4 0]\n",
      "  [2 3]\n",
      "  [4 8]]\n",
      "\n",
      " [[5 3]\n",
      "  [3 2]\n",
      "  [1 4]\n",
      "  [5 6]\n",
      "  [5 3]\n",
      "  [1 3]\n",
      "  [4 2]\n",
      "  [4 5]]]\n"
     ]
    }
   ],
   "source": [
    "a6 = np.random.randint(0,5,size = (3,8,2))\n",
    "a7 = np.random.randint(0,5,size = (8,1))\n",
    "print(a6)\n",
    "print(\"-\" * 30)\n",
    "print(a7)\n",
    "print('-' * 30)\n",
    "print(a6 + a7)"
   ]
  },
  {
   "cell_type": "markdown",
   "id": "e0bdb238",
   "metadata": {},
   "source": [
    "## 总结\n",
    "1.数组和数字直接进行运算是没问题的\n",
    "\n",
    "2.两个shape相同的数组可以进行运算\n",
    "\n",
    "3.如果两个shape不相同的数组，想要进行运算，那么需要看他们是否满足广播原则\n",
    "\n",
    "广播原则：如果两个数组的后缘维度(从末尾开始算起的维度)的轴长度相符或其中一方的长度为1，则仍未他们是广播兼容的。广播会在缺失和(或)长度为1的维度上进行"
   ]
  }
 ],
 "metadata": {
  "kernelspec": {
   "display_name": "Python 3",
   "language": "python",
   "name": "python3"
  },
  "language_info": {
   "codemirror_mode": {
    "name": "ipython",
    "version": 3
   },
   "file_extension": ".py",
   "mimetype": "text/x-python",
   "name": "python",
   "nbconvert_exporter": "python",
   "pygments_lexer": "ipython3",
   "version": "3.8.8"
  }
 },
 "nbformat": 4,
 "nbformat_minor": 5
}
