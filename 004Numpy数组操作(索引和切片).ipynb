{
 "cells": [
  {
   "cell_type": "code",
   "execution_count": 1,
   "id": "ef236362",
   "metadata": {},
   "outputs": [],
   "source": [
    "import numpy as np"
   ]
  },
  {
   "cell_type": "markdown",
   "id": "2d146b23",
   "metadata": {},
   "source": [
    "一维数组的索引切片"
   ]
  },
  {
   "cell_type": "code",
   "execution_count": 2,
   "id": "2284d9dc",
   "metadata": {},
   "outputs": [
    {
     "name": "stdout",
     "output_type": "stream",
     "text": [
      "[0 1 2 3 4 5 6 7 8 9]\n",
      "6\n",
      "[4 5]\n",
      "[0 1 2 3 4 5 6 7 8]\n",
      "[0 2 4 6 8]\n",
      "[0 3 6 9]\n",
      "9\n",
      "0\n"
     ]
    }
   ],
   "source": [
    "a1 = np.arange(10)\n",
    "#进行索引操作\n",
    "print(a1)\n",
    "print(a1[6])\n",
    "#进行切片操作\n",
    "print(a1[4:6])\n",
    "print(a1[0:9])\n",
    "#使用步长\n",
    "print(a1[::2])\n",
    "print(a1[::3])\n",
    "#使用负数来作为索引\n",
    "print(a1[-1])\n",
    "print(a1[-10])"
   ]
  },
  {
   "cell_type": "markdown",
   "id": "b79126b1",
   "metadata": {},
   "source": [
    "多维数组"
   ]
  },
  {
   "cell_type": "markdown",
   "id": "557cb614",
   "metadata": {},
   "source": [
    "同一维数组用中括号[]来进行索引和切片，在中括号中，使用逗号进行分割，逗号前面是行，后面是列。\n",
    "\n",
    "如果多维数组中有只有一个值，那么这个值就是行"
   ]
  },
  {
   "cell_type": "code",
   "execution_count": 3,
   "id": "e4490715",
   "metadata": {},
   "outputs": [
    {
     "name": "stdout",
     "output_type": "stream",
     "text": [
      "[[5 4 7 5 1 9]\n",
      " [1 8 2 5 3 9]\n",
      " [2 8 8 9 1 6]\n",
      " [5 0 7 1 6 8]]\n"
     ]
    }
   ],
   "source": [
    "b2 = np.random.randint(0,10,size=(4,6))\n",
    "print(b2)"
   ]
  },
  {
   "cell_type": "code",
   "execution_count": 4,
   "id": "c80db831",
   "metadata": {},
   "outputs": [
    {
     "name": "stdout",
     "output_type": "stream",
     "text": [
      "[[1 8 2 5 3 9]\n",
      " [2 8 8 9 1 6]]\n",
      "[[5 4 7 5 1 9]\n",
      " [5 0 7 1 6 8]]\n"
     ]
    }
   ],
   "source": [
    "x = b2[1:3]\n",
    "print(x)\n",
    "print(b2[[0,3]])#单独提取需要的行"
   ]
  },
  {
   "cell_type": "code",
   "execution_count": 5,
   "id": "f053048c",
   "metadata": {},
   "outputs": [
    {
     "name": "stdout",
     "output_type": "stream",
     "text": [
      "8\n",
      "[1 5]\n"
     ]
    }
   ],
   "source": [
    "print(b2[2,1])\n",
    "print(b2[[2,3],[4,0]])#切记，[[x1,y1],[x2,y2]]其中x1对应x2，提取数值的理想格式为[x1,x2]"
   ]
  },
  {
   "cell_type": "code",
   "execution_count": 6,
   "id": "676d82aa",
   "metadata": {},
   "outputs": [
    {
     "name": "stdout",
     "output_type": "stream",
     "text": [
      "[[2 5]\n",
      " [8 9]]\n",
      "[4 8 8 0]\n"
     ]
    }
   ],
   "source": [
    "print(b2[1:3,2:4])#切记左开右闭\n",
    "print(b2[:,1])"
   ]
  },
  {
   "cell_type": "markdown",
   "id": "4f5614ad",
   "metadata": {},
   "source": [
    "#尤其注意[1:3,2:4]与[[2,3],[4,0]]的根本区别在于提取区域的连不连续"
   ]
  },
  {
   "cell_type": "markdown",
   "id": "914d35bd",
   "metadata": {},
   "source": [
    "### 布尔索引"
   ]
  },
  {
   "cell_type": "code",
   "execution_count": 8,
   "id": "67bd3ba8",
   "metadata": {},
   "outputs": [
    {
     "name": "stdout",
     "output_type": "stream",
     "text": [
      "[[ 0  1  2  3  4  5]\n",
      " [ 6  7  8  9 10 11]\n",
      " [12 13 14 15 16 17]\n",
      " [18 19 20 21 22 23]]\n"
     ]
    }
   ],
   "source": [
    "c2 = np.arange(24).reshape((4,6))\n",
    "print(c2)"
   ]
  },
  {
   "cell_type": "code",
   "execution_count": 12,
   "id": "b55463b6",
   "metadata": {},
   "outputs": [
    {
     "name": "stdout",
     "output_type": "stream",
     "text": [
      "[[ True  True  True  True  True  True]\n",
      " [ True  True  True  True False False]\n",
      " [False False False False False False]\n",
      " [False False False False False False]]\n"
     ]
    }
   ],
   "source": [
    "print(c2 < 10)"
   ]
  },
  {
   "cell_type": "code",
   "execution_count": 14,
   "id": "9ee3dcec",
   "metadata": {},
   "outputs": [
    {
     "name": "stdout",
     "output_type": "stream",
     "text": [
      "[0 1 2 3 4 5 6 7 8 9]\n"
     ]
    }
   ],
   "source": [
    "print(c2[c2<10])"
   ]
  },
  {
   "cell_type": "code",
   "execution_count": 17,
   "id": "b28fcdd1",
   "metadata": {},
   "outputs": [
    {
     "name": "stdout",
     "output_type": "stream",
     "text": [
      "[ 0  1  2  3  4 11 12 13 14 15 16 17 18 19 20 21 22 23]\n"
     ]
    }
   ],
   "source": [
    "print(c2[(c2 < 5) | (c2 > 10)])"
   ]
  },
  {
   "cell_type": "markdown",
   "id": "65214cef",
   "metadata": {},
   "source": [
    "布尔索引是通过相同数组上的True或Fasle来进行提取。提取的条件可以有多个，当有多个条件时，用|表示或，用&表示且。多条件时，每个条件必须同圆括号括起来。"
   ]
  },
  {
   "cell_type": "markdown",
   "id": "72057575",
   "metadata": {},
   "source": [
    "### 值的替换"
   ]
  },
  {
   "cell_type": "code",
   "execution_count": 21,
   "id": "793d2e4a",
   "metadata": {},
   "outputs": [
    {
     "name": "stdout",
     "output_type": "stream",
     "text": [
      "[[7 6 2 4 1]\n",
      " [1 3 3 3 7]\n",
      " [8 7 9 3 1]]\n"
     ]
    }
   ],
   "source": [
    "a3 = np.random.randint(0,10,size=(3,5))\n",
    "print(a3)"
   ]
  },
  {
   "cell_type": "code",
   "execution_count": 23,
   "id": "f39cb302",
   "metadata": {},
   "outputs": [
    {
     "name": "stdout",
     "output_type": "stream",
     "text": [
      "[[7 6 2 4 1]\n",
      " [0 0 0 0 0]\n",
      " [8 7 9 3 1]]\n"
     ]
    }
   ],
   "source": [
    "#使用索引或切片来替换\n",
    "a3[1] = 0\n",
    "print(a3)"
   ]
  },
  {
   "cell_type": "code",
   "execution_count": 25,
   "id": "4f0c0f52",
   "metadata": {},
   "outputs": [
    {
     "name": "stdout",
     "output_type": "stream",
     "text": [
      "[[7 6 1 4 1]\n",
      " [1 1 1 1 1]\n",
      " [8 7 9 3 1]]\n"
     ]
    }
   ],
   "source": [
    "#使用条件索引来替换\n",
    "a3[a3 < 3] = 1\n",
    "print(a3)"
   ]
  },
  {
   "cell_type": "code",
   "execution_count": 28,
   "id": "620b2cc2",
   "metadata": {},
   "outputs": [
    {
     "name": "stdout",
     "output_type": "stream",
     "text": [
      "[[1 1 0 0 0]\n",
      " [0 0 0 0 0]\n",
      " [1 1 1 0 0]]\n"
     ]
    }
   ],
   "source": [
    "#使用where函数来替换\n",
    "result = np.where(a3 < 5,0,1)\n",
    "print(result)"
   ]
  }
 ],
 "metadata": {
  "kernelspec": {
   "display_name": "Python 3",
   "language": "python",
   "name": "python3"
  },
  "language_info": {
   "codemirror_mode": {
    "name": "ipython",
    "version": 3
   },
   "file_extension": ".py",
   "mimetype": "text/x-python",
   "name": "python",
   "nbconvert_exporter": "python",
   "pygments_lexer": "ipython3",
   "version": "3.8.8"
  }
 },
 "nbformat": 4,
 "nbformat_minor": 5
}
