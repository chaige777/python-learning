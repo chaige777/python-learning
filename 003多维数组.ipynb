{
 "cells": [
  {
   "cell_type": "code",
   "execution_count": 1,
   "id": "f75dea9f",
   "metadata": {},
   "outputs": [],
   "source": [
    "import numpy as np"
   ]
  },
  {
   "cell_type": "markdown",
   "id": "91bf620b",
   "metadata": {},
   "source": [
    "ndarray.ndim分析数组的维度"
   ]
  },
  {
   "cell_type": "code",
   "execution_count": 13,
   "id": "212fb3eb",
   "metadata": {},
   "outputs": [
    {
     "name": "stdout",
     "output_type": "stream",
     "text": [
      "1\n",
      "2\n",
      "3\n",
      "4\n"
     ]
    }
   ],
   "source": [
    "a1 = np.array([1,2,3])\n",
    "print(a1.ndim)\n",
    "a2 = np.array([[1,2,3],[4,5,6]])\n",
    "print(a2.ndim)\n",
    "a3 = np.array([\n",
    "    [\n",
    "        [1,2,3]\n",
    "    ],\n",
    "    [\n",
    "        [4,5,6]\n",
    "    ]\n",
    "])\n",
    "print(a3.ndim)\n",
    "a4 = np.array([\n",
    "    [\n",
    "        [\n",
    "            [1,2,3]\n",
    "        ],\n",
    "        [\n",
    "            [4,5,6]\n",
    "        ]\n",
    "    ]\n",
    "])\n",
    "print(a4.ndim)"
   ]
  },
  {
   "cell_type": "markdown",
   "id": "73101c73",
   "metadata": {},
   "source": [
    "ndarray.shape"
   ]
  },
  {
   "cell_type": "code",
   "execution_count": 14,
   "id": "7a6b039d",
   "metadata": {},
   "outputs": [
    {
     "name": "stdout",
     "output_type": "stream",
     "text": [
      "(3,)\n",
      "(2, 3)\n",
      "(2, 1, 3)\n"
     ]
    }
   ],
   "source": [
    "print(a1.shape)\n",
    "print(a2.shape)\n",
    "print(a3.shape)#两块一行三个元素"
   ]
  },
  {
   "cell_type": "markdown",
   "id": "901c3cae",
   "metadata": {},
   "source": [
    "ndarray.reshape修改数组的形状"
   ]
  },
  {
   "cell_type": "code",
   "execution_count": 17,
   "id": "94e7fc2b",
   "metadata": {},
   "outputs": [
    {
     "name": "stdout",
     "output_type": "stream",
     "text": [
      "[[1 2 3]\n",
      " [4 5 6]]\n",
      "(2, 3)\n"
     ]
    }
   ],
   "source": [
    "a5 = a3.reshape((2,3))\n",
    "print(a5)\n",
    "print(a5.shape)"
   ]
  },
  {
   "cell_type": "code",
   "execution_count": 19,
   "id": "2f23892e",
   "metadata": {},
   "outputs": [
    {
     "name": "stdout",
     "output_type": "stream",
     "text": [
      "[1 2 3 4 5 6]\n",
      "(6,)\n"
     ]
    }
   ],
   "source": [
    "a6 = a3.reshape((6,))\n",
    "print(a6)\n",
    "print(a6.shape)"
   ]
  },
  {
   "cell_type": "markdown",
   "id": "32d02504",
   "metadata": {},
   "source": [
    "ndarray.flatten扁平化"
   ]
  },
  {
   "cell_type": "code",
   "execution_count": 22,
   "id": "27e78678",
   "metadata": {},
   "outputs": [
    {
     "name": "stdout",
     "output_type": "stream",
     "text": [
      "[1 2 3 4 5 6]\n"
     ]
    }
   ],
   "source": [
    "a7 = a3.flatten()\n",
    "print(a7)"
   ]
  },
  {
   "cell_type": "markdown",
   "id": "ec116b70",
   "metadata": {},
   "source": [
    "ndarray.size获取元素个数"
   ]
  },
  {
   "cell_type": "code",
   "execution_count": 25,
   "id": "afd8825f",
   "metadata": {},
   "outputs": [
    {
     "name": "stdout",
     "output_type": "stream",
     "text": [
      "6\n"
     ]
    }
   ],
   "source": [
    "count = a3.size\n",
    "print(count)"
   ]
  },
  {
   "cell_type": "markdown",
   "id": "7a8c2940",
   "metadata": {},
   "source": [
    "ndarray.itemsize每一个元素所占用内存大小，单位是字节"
   ]
  },
  {
   "cell_type": "code",
   "execution_count": 29,
   "id": "3d6c6243",
   "metadata": {},
   "outputs": [
    {
     "name": "stdout",
     "output_type": "stream",
     "text": [
      "4\n",
      "int32\n",
      "24\n"
     ]
    }
   ],
   "source": [
    "itemsize = a3.itemsize\n",
    "print(itemsize)\n",
    "print(a3.dtype)\n",
    "print(itemsize * a3.size)"
   ]
  }
 ],
 "metadata": {
  "kernelspec": {
   "display_name": "Python 3",
   "language": "python",
   "name": "python3"
  },
  "language_info": {
   "codemirror_mode": {
    "name": "ipython",
    "version": 3
   },
   "file_extension": ".py",
   "mimetype": "text/x-python",
   "name": "python",
   "nbconvert_exporter": "python",
   "pygments_lexer": "ipython3",
   "version": "3.8.8"
  }
 },
 "nbformat": 4,
 "nbformat_minor": 5
}
