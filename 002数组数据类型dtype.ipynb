{
 "cells": [
  {
   "cell_type": "code",
   "execution_count": 1,
   "id": "27292d16",
   "metadata": {},
   "outputs": [],
   "source": [
    "import numpy as np"
   ]
  },
  {
   "cell_type": "code",
   "execution_count": 2,
   "id": "24164264",
   "metadata": {},
   "outputs": [
    {
     "name": "stdout",
     "output_type": "stream",
     "text": [
      "[0 1 2 3 4 5 6 7 8 9]\n",
      "int32\n"
     ]
    }
   ],
   "source": [
    "a = np.arange(10)\n",
    "print(a)\n",
    "print(a.dtype)"
   ]
  },
  {
   "cell_type": "code",
   "execution_count": 3,
   "id": "97809708",
   "metadata": {},
   "outputs": [
    {
     "name": "stdout",
     "output_type": "stream",
     "text": [
      "[1 2 3 4]\n",
      "int8\n"
     ]
    }
   ],
   "source": [
    "b = np.array([1,2,3,4,],dtype = 'int8')\n",
    "print(b)\n",
    "print(b.dtype)"
   ]
  },
  {
   "cell_type": "code",
   "execution_count": 4,
   "id": "64dc33ac",
   "metadata": {},
   "outputs": [
    {
     "name": "stdout",
     "output_type": "stream",
     "text": [
      "[1. 2. 3. 4. 5.]\n",
      "float16\n"
     ]
    }
   ],
   "source": [
    "c = np.array([1,2,3,4,5,],dtype = 'float16')\n",
    "print(c)\n",
    "print(c.dtype)"
   ]
  },
  {
   "cell_type": "code",
   "execution_count": 6,
   "id": "fefe8353",
   "metadata": {},
   "outputs": [
    {
     "name": "stdout",
     "output_type": "stream",
     "text": [
      "[<__main__.people object at 0x000001DB5387A0D0>\n",
      " <__main__.people object at 0x000001DB5387A130>]\n",
      "object\n"
     ]
    }
   ],
   "source": [
    "class people:\n",
    "    def __init__(self,name,age):\n",
    "        self.name = name\n",
    "        self.age = age\n",
    "d = np.array([people(\"王\",18),people(\"李\",20)])\n",
    "print(d)\n",
    "print(d.dtype)"
   ]
  },
  {
   "cell_type": "code",
   "execution_count": 8,
   "id": "76d20255",
   "metadata": {},
   "outputs": [
    {
     "name": "stdout",
     "output_type": "stream",
     "text": [
      "[b'a' b'b']\n",
      "|S1\n"
     ]
    }
   ],
   "source": [
    "f = np.array(['a','b'],dtype = 'S')\n",
    "print(f)\n",
    "print(f.dtype)\n",
    "#关于bytes与str的转化解释，见链接→→ https://www.cnblogs.com/chownjy/p/6625299.html"
   ]
  },
  {
   "cell_type": "code",
   "execution_count": 9,
   "id": "081b8f95",
   "metadata": {},
   "outputs": [
    {
     "name": "stdout",
     "output_type": "stream",
     "text": [
      "['a' 'c']\n",
      "<U1\n"
     ]
    }
   ],
   "source": [
    "e = np.array(['a','c'],dtype = 'U')\n",
    "print(e)\n",
    "print(e.dtype)"
   ]
  },
  {
   "cell_type": "markdown",
   "id": "4441ae4b",
   "metadata": {},
   "source": [
    "### 类型转化astype"
   ]
  },
  {
   "cell_type": "code",
   "execution_count": 12,
   "id": "90895d12",
   "metadata": {
    "scrolled": true
   },
   "outputs": [
    {
     "name": "stdout",
     "output_type": "stream",
     "text": [
      "['a' 'b']\n",
      "<U1\n",
      "|S1\n"
     ]
    }
   ],
   "source": [
    "uf = f.astype(\"U\")\n",
    "print(uf)\n",
    "print(uf.dtype)\n",
    "print(f.dtype)"
   ]
  },
  {
   "cell_type": "markdown",
   "id": "1e745cf2",
   "metadata": {},
   "source": [
    "为什么Numpy的数组中有这么多的数据类型？\n",
    "\n",
    "1.Numpy底层代码由C语言编写\n",
    "2.Numpy考虑到处理海量数据的性能，针对不同的数据给不同的类型，来节省内存空间"
   ]
  }
 ],
 "metadata": {
  "kernelspec": {
   "display_name": "Python 3",
   "language": "python",
   "name": "python3"
  },
  "language_info": {
   "codemirror_mode": {
    "name": "ipython",
    "version": 3
   },
   "file_extension": ".py",
   "mimetype": "text/x-python",
   "name": "python",
   "nbconvert_exporter": "python",
   "pygments_lexer": "ipython3",
   "version": "3.8.8"
  }
 },
 "nbformat": 4,
 "nbformat_minor": 5
}
